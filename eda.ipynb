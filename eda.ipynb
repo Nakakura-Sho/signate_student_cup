{
 "cells": [
  {
   "cell_type": "code",
   "execution_count": null,
   "metadata": {},
   "outputs": [],
   "source": [
    "import numpy as np\n",
    "import pandas as pd\n",
    "import seaborn as sns\n",
    "import matplotlib.pyplot as plt"
   ]
  },
  {
   "cell_type": "code",
   "execution_count": null,
   "metadata": {},
   "outputs": [],
   "source": [
    "train_df = pd.read_csv(\"train.csv\")\n",
    "test_df = pd.read_csv(\"test.csv\")\n",
    "sub_df = pd.read_csv(\"submit_sample.csv\")"
   ]
  },
  {
   "cell_type": "code",
   "execution_count": null,
   "metadata": {},
   "outputs": [],
   "source": [
    "train_df.shape"
   ]
  },
  {
   "cell_type": "code",
   "execution_count": null,
   "metadata": {},
   "outputs": [],
   "source": [
    "test_df.shape"
   ]
  },
  {
   "cell_type": "code",
   "execution_count": null,
   "metadata": {},
   "outputs": [],
   "source": [
    "sub_df.shape"
   ]
  },
  {
   "cell_type": "code",
   "execution_count": null,
   "metadata": {},
   "outputs": [],
   "source": [
    "train_df.head(5)"
   ]
  },
  {
   "cell_type": "code",
   "execution_count": null,
   "metadata": {},
   "outputs": [],
   "source": [
    "train_df.tail(5)"
   ]
  },
  {
   "cell_type": "code",
   "execution_count": null,
   "metadata": {},
   "outputs": [],
   "source": [
    "test_df.head(5)"
   ]
  },
  {
   "cell_type": "code",
   "execution_count": null,
   "metadata": {},
   "outputs": [],
   "source": [
    "test_df.tail(5)"
   ]
  },
  {
   "cell_type": "code",
   "execution_count": null,
   "metadata": {},
   "outputs": [],
   "source": [
    "train_df[\"manufacturer\"].unique()"
   ]
  },
  {
   "cell_type": "code",
   "execution_count": null,
   "metadata": {},
   "outputs": [],
   "source": [
    "#メーカの表記ゆれを統一\n",
    "import unicodedata\n",
    "train_df['manufacturer'] = train_df['manufacturer'].str.upper()\n",
    "\n",
    "# 全角英語を英語大文字に変換する関数\n",
    "def convert_fullwidth_to_upper(text):\n",
    "    return ''.join(unicodedata.normalize('NFKC', char).upper() for char in text)\n",
    "# nameカラムの要素を英語大文字に統一します\n",
    "train_df['manufacturer'] = train_df['manufacturer'].apply(convert_fullwidth_to_upper)\n",
    "\n",
    "train_df[\"manufacturer\"].replace(\"ᴄHRYSLER\",\"CHEVROLET\",inplace=True)\n",
    "train_df[\"manufacturer\"].replace(\"SUBΑRU\",\"SUBARU\",inplace=True)\n",
    "train_df[\"manufacturer\"].replace(\"TOYOTА\",\"TOYOTA\",inplace=True)\n",
    "train_df[\"manufacturer\"].replace(\"NIЅSAN\",\"NISSAN\",inplace=True)\n",
    "train_df[\"manufacturer\"].replace(\"NISЅAN\",\"NISSAN\",inplace=True)\n",
    "train_df[\"manufacturer\"].replace(\"SΑTURN\",\"SATURN\",inplace=True)\n",
    "train_df[\"manufacturer\"].replace(\"АCURA\",\"ACURA\",inplace=True)\n",
    "train_df[\"manufacturer\"].replace(\"VОLKSWAGEN\",\"VOLKSWAGEN\",inplace=True)\n",
    "train_df[\"manufacturer\"].replace(\"LEXUЅ\",\"LEXUS\",inplace=True)\n",
    "# 結果を表示\n",
    "print(train_df[\"manufacturer\"].unique())\n",
    "\n"
   ]
  },
  {
   "cell_type": "code",
   "execution_count": null,
   "metadata": {},
   "outputs": [],
   "source": [
    "manufacturer_hist = train_df[\"manufacturer\"].value_counts()\n",
    "\n",
    "# ヒストグラムを描画\n",
    "plt.bar(manufacturer_hist.index, manufacturer_hist.values)\n",
    "plt.xlabel('Manufacturer')\n",
    "plt.ylabel('Count')\n",
    "plt.title('Manufacturer Histogram')\n",
    "plt.xticks(rotation=40)\n",
    "plt.show()\n",
    "plt.figure(figsize=(50, 6))  "
   ]
  },
  {
   "cell_type": "code",
   "execution_count": null,
   "metadata": {},
   "outputs": [],
   "source": [
    "manufacturer_hist"
   ]
  },
  {
   "cell_type": "code",
   "execution_count": null,
   "metadata": {},
   "outputs": [],
   "source": [
    "train_df[\"manufacturer\"].unique()"
   ]
  },
  {
   "cell_type": "code",
   "execution_count": null,
   "metadata": {},
   "outputs": [],
   "source": [
    "train_df[\"state\"].unique()"
   ]
  },
  {
   "cell_type": "code",
   "execution_count": null,
   "metadata": {},
   "outputs": [],
   "source": [
    "import matplotlib.pyplot as plt\n",
    "import pandas as pd\n",
    "import numpy as np\n",
    "\n",
    "def des(X, train_df):\n",
    "    # manufacturerがXの行のみを抽出します\n",
    "    manufacturer_df = train_df[train_df['manufacturer'] == X]\n",
    "\n",
    "    plt.rcParams['font.family'] = 'Meiryo'\n",
    "    # ヒストグラムを作成して表示します\n",
    "    bins = np.arange(0, 90001, 2500)  # 2500ごとの範囲を指定\n",
    "    plt.hist(manufacturer_df['price'], bins=bins, edgecolor='black')\n",
    "\n",
    "    # 各棒のパーセンテージを計算して表示\n",
    "    total_samples = len(manufacturer_df)\n",
    "    patches = plt.gca().patches\n",
    "    for patch in patches:\n",
    "        height = patch.get_height()\n",
    "        percentage = (height / total_samples) * 100\n",
    "        plt.annotate(f'{percentage:.1f}%', xy=(patch.get_x() + patch.get_width() / 2, height),\n",
    "                    xytext=(0, 3), textcoords='offset points', ha='center')\n",
    "\n",
    "    # 注釈を付ける条件とメッセージを定義\n",
    "    conditions = [(0.5, 10000), (0.6, 10000), (0.7, 10000),\n",
    "                  (0.5, 12500), (0.6, 12500), (0.7, 12500),\n",
    "                  (0.2, 15000, 25000), (0.25, 15000, 25000), (0.3, 15000, 25000),\n",
    "                  (0.05, 25000,40000), (0.1, 25000,40000), (0.15, 25000,40000)]\n",
    "\n",
    "    matched_messages = []  # メッセージを保持するリスト\n",
    "    for condition in conditions:\n",
    "        if len(condition) == 3:\n",
    "            percentage_threshold, price_min, price_max = condition\n",
    "            count_threshold = total_samples * percentage_threshold\n",
    "            count_within_range = np.sum((manufacturer_df['price'] >= price_min) & (manufacturer_df['price'] <= price_max))\n",
    "            if count_within_range >= count_threshold:\n",
    "                message = f'{int(percentage_threshold * 100)}%_{price_min}~{price_max}'\n",
    "                matched_messages.append(message)\n",
    "        else:\n",
    "            percentage_threshold, price_threshold = condition\n",
    "            count_threshold = total_samples * percentage_threshold\n",
    "            count_below_threshold = np.sum(manufacturer_df['price'] <= price_threshold)\n",
    "            if count_below_threshold >= count_threshold:\n",
    "                message = f'{int(percentage_threshold * 100)}%_{price_threshold}'\n",
    "                matched_messages.append(message)\n",
    "\n",
    "    if matched_messages:\n",
    "        print(\"該当するメッセージ:\")\n",
    "        for message in matched_messages:\n",
    "            print(message)\n",
    "\n",
    "    plt.xlabel('ドル')\n",
    "    plt.ylabel('count')\n",
    "    plt.title('値段と販売台数')\n",
    "    plt.show()\n",
    "\n"
   ]
  },
  {
   "cell_type": "code",
   "execution_count": null,
   "metadata": {},
   "outputs": [],
   "source": [
    "des(\"BMW\",train_df)"
   ]
  },
  {
   "cell_type": "code",
   "execution_count": null,
   "metadata": {},
   "outputs": [],
   "source": [
    "manu_list=train_df[\"manufacturer\"].unique()"
   ]
  },
  {
   "cell_type": "code",
   "execution_count": null,
   "metadata": {},
   "outputs": [],
   "source": [
    "manu_list"
   ]
  },
  {
   "cell_type": "code",
   "execution_count": null,
   "metadata": {},
   "outputs": [],
   "source": [
    "des(\"TOYOTA\",train_df)\n",
    "    "
   ]
  },
  {
   "cell_type": "code",
   "execution_count": null,
   "metadata": {},
   "outputs": [],
   "source": [
    "des(\"FORD\",train_df)"
   ]
  },
  {
   "cell_type": "code",
   "execution_count": null,
   "metadata": {},
   "outputs": [],
   "source": [
    "des(\"PORSCHE\",train_df)"
   ]
  },
  {
   "cell_type": "code",
   "execution_count": null,
   "metadata": {},
   "outputs": [],
   "source": [
    "import matplotlib.pyplot as plt\n",
    "\n",
    "price_data = train_df[\"price\"]\n",
    "\n",
    "# 1. ビンの数を指定してヒストグラムを表示\n",
    "plt.hist(price_data, bins=100,density=True)\n",
    "\n",
    "# 2. ヒストグラムを正規化して表示\n",
    "\n",
    "\n",
    "# 3. 対数軸を使用して表示\n",
    "# plt.hist(price_data, bins=20, log=True)\n",
    "\n",
    "plt.xlabel(\"Price\")\n",
    "plt.ylabel(\"Frequency\")\n",
    "plt.title(\"Price Distribution\")\n",
    "plt.show()\n"
   ]
  },
  {
   "cell_type": "code",
   "execution_count": null,
   "metadata": {},
   "outputs": [],
   "source": [
    "des('NISSAN',train_df)"
   ]
  },
  {
   "cell_type": "code",
   "execution_count": null,
   "metadata": {},
   "outputs": [],
   "source": [
    "des('VOLKSWAGEN',train_df)"
   ]
  },
  {
   "cell_type": "code",
   "execution_count": null,
   "metadata": {},
   "outputs": [],
   "source": [
    "des('LEXUS',train_df)"
   ]
  },
  {
   "cell_type": "code",
   "execution_count": null,
   "metadata": {},
   "outputs": [],
   "source": [
    "des('BUICK',train_df)"
   ]
  },
  {
   "cell_type": "code",
   "execution_count": null,
   "metadata": {},
   "outputs": [],
   "source": [
    "des(\"SUBARU\",train_df)"
   ]
  },
  {
   "cell_type": "code",
   "execution_count": null,
   "metadata": {},
   "outputs": [],
   "source": [
    "des('RAM',train_df)"
   ]
  },
  {
   "cell_type": "code",
   "execution_count": null,
   "metadata": {},
   "outputs": [],
   "source": [
    "des( 'DODGE',train_df)"
   ]
  },
  {
   "cell_type": "code",
   "execution_count": null,
   "metadata": {},
   "outputs": [],
   "source": [
    "des('CHEVROLET',train_df)"
   ]
  },
  {
   "cell_type": "code",
   "execution_count": null,
   "metadata": {},
   "outputs": [],
   "source": [
    "des('JEEP',train_df)"
   ]
  },
  {
   "cell_type": "code",
   "execution_count": null,
   "metadata": {},
   "outputs": [],
   "source": [
    "des('HONDA',train_df)"
   ]
  },
  {
   "cell_type": "code",
   "execution_count": null,
   "metadata": {},
   "outputs": [],
   "source": [
    "des(\"ACURA\",train_df)"
   ]
  },
  {
   "cell_type": "code",
   "execution_count": null,
   "metadata": {},
   "outputs": [],
   "source": [
    "des('HYUNDAI',train_df)"
   ]
  },
  {
   "cell_type": "code",
   "execution_count": null,
   "metadata": {},
   "outputs": [],
   "source": [
    "des('CHRYSLER',train_df)"
   ]
  },
  {
   "cell_type": "code",
   "execution_count": null,
   "metadata": {},
   "outputs": [],
   "source": [
    "des(\"GMC\",train_df)"
   ]
  },
  {
   "cell_type": "code",
   "execution_count": null,
   "metadata": {},
   "outputs": [],
   "source": [
    "des('MAZDA',train_df)"
   ]
  },
  {
   "cell_type": "code",
   "execution_count": null,
   "metadata": {},
   "outputs": [],
   "source": [
    "des('AUDI',train_df)"
   ]
  },
  {
   "cell_type": "code",
   "execution_count": null,
   "metadata": {},
   "outputs": [],
   "source": [
    "des('LINCOLN',train_df)"
   ]
  },
  {
   "cell_type": "code",
   "execution_count": null,
   "metadata": {},
   "outputs": [],
   "source": [
    "des('KIA',train_df)"
   ]
  },
  {
   "cell_type": "code",
   "execution_count": null,
   "metadata": {},
   "outputs": [],
   "source": [
    "des('MERCEDES-BENZ',train_df)"
   ]
  },
  {
   "cell_type": "code",
   "execution_count": null,
   "metadata": {},
   "outputs": [],
   "source": [
    "des('MITSUBISHI',train_df)"
   ]
  },
  {
   "cell_type": "code",
   "execution_count": null,
   "metadata": {},
   "outputs": [],
   "source": [
    "des('SATURN',train_df)"
   ]
  },
  {
   "cell_type": "code",
   "execution_count": null,
   "metadata": {},
   "outputs": [],
   "source": [
    "des('INFINITI',train_df)"
   ]
  },
  {
   "cell_type": "code",
   "execution_count": null,
   "metadata": {},
   "outputs": [],
   "source": [
    "des('MINI',train_df)"
   ]
  },
  {
   "cell_type": "code",
   "execution_count": null,
   "metadata": {},
   "outputs": [],
   "source": [
    "des('MERCURY',train_df)"
   ]
  },
  {
   "cell_type": "code",
   "execution_count": null,
   "metadata": {},
   "outputs": [],
   "source": [
    "des('CADILLAC',train_df)"
   ]
  },
  {
   "cell_type": "code",
   "execution_count": null,
   "metadata": {},
   "outputs": [],
   "source": [
    "des('PONTIAC',train_df)"
   ]
  },
  {
   "cell_type": "code",
   "execution_count": null,
   "metadata": {},
   "outputs": [],
   "source": [
    "des('ACURA',train_df)"
   ]
  },
  {
   "cell_type": "code",
   "execution_count": null,
   "metadata": {},
   "outputs": [],
   "source": [
    "des('FIAT',train_df)"
   ]
  },
  {
   "cell_type": "code",
   "execution_count": null,
   "metadata": {},
   "outputs": [],
   "source": [
    "des('JAGUAR',train_df)"
   ]
  },
  {
   "cell_type": "code",
   "execution_count": null,
   "metadata": {},
   "outputs": [],
   "source": [
    "des('VOLVO',train_df)"
   ]
  },
  {
   "cell_type": "code",
   "execution_count": null,
   "metadata": {},
   "outputs": [],
   "source": [
    "des('ROVER',train_df)"
   ]
  },
  {
   "cell_type": "code",
   "execution_count": null,
   "metadata": {},
   "outputs": [],
   "source": [
    "des('PORSCHE',train_df)"
   ]
  },
  {
   "cell_type": "code",
   "execution_count": null,
   "metadata": {},
   "outputs": [],
   "source": [
    "des('LAND ROVER',train_df)"
   ]
  },
  {
   "cell_type": "code",
   "execution_count": null,
   "metadata": {},
   "outputs": [],
   "source": [
    "des('ASTON-MARTIN',train_df)"
   ]
  },
  {
   "cell_type": "code",
   "execution_count": null,
   "metadata": {},
   "outputs": [],
   "source": [
    "des('ALFA-ROMEO',train_df)"
   ]
  },
  {
   "cell_type": "code",
   "execution_count": null,
   "metadata": {},
   "outputs": [],
   "source": [
    "# メーカーごとに該当するメッセージを表示\n",
    "for manufacturer in train_df['manufacturer'].unique():\n",
    "    matched_messages = des(manufacturer, train_df)\n",
    "    unique_matched_messages = list(set(matched_messages))  # 重複を削除\n",
    "    if unique_matched_messages:\n",
    "        print(f\"{manufacturer}: 該当するメッセージ - {', '.join(unique_matched_messages)}\")\n",
    "    else:\n",
    "        print(f\"{manufacturer}: 該当するメッセージなし\")"
   ]
  },
  {
   "cell_type": "code",
   "execution_count": null,
   "metadata": {},
   "outputs": [],
   "source": [
    "def des_test(X):\n",
    "    # manufacturerがBMWの行のみを抽出します\n",
    "    bmw_df = test_df[test_df_df['manufacturer'] == X]\n",
    "\n",
    "    plt.rcParams['font.family'] = 'Meiryo'\n",
    "    # ヒストグラムを作成して表示します\n",
    "    plt.hist(bmw_df['price'], bins=10, edgecolor='black')\n",
    "    plt.xlabel('ドル')\n",
    "    plt.ylabel('count')\n",
    "    plt.title('値段と販売台数')\n",
    "    return plt.show()"
   ]
  },
  {
   "cell_type": "code",
   "execution_count": null,
   "metadata": {},
   "outputs": [],
   "source": [
    "des_test"
   ]
  }
 ],
 "metadata": {
  "kernelspec": {
   "display_name": "Python 3",
   "language": "python",
   "name": "python3"
  },
  "language_info": {
   "codemirror_mode": {
    "name": "ipython",
    "version": 3
   },
   "file_extension": ".py",
   "mimetype": "text/x-python",
   "name": "python",
   "nbconvert_exporter": "python",
   "pygments_lexer": "ipython3",
   "version": "3.11.3"
  },
  "orig_nbformat": 4
 },
 "nbformat": 4,
 "nbformat_minor": 2
}
